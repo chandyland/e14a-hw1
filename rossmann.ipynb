{
 "cells": [
  {
   "cell_type": "markdown",
   "metadata": {},
   "source": [
    "<img src=\"static/img/rosslog.png\" align=\"left\">  "
   ]
  },
  {
   "cell_type": "markdown",
   "metadata": {
    "_cell_guid": "e1e663f2-7799-45cf-ba9c-1b90636b5c6e",
    "_uuid": "82ab9b775fcea7f0a7fc33486264640f69b38bf0"
   },
   "source": [
    "# Rossmann Stores Predictions"
   ]
  },
  {
   "cell_type": "markdown",
   "metadata": {},
   "source": [
    "This notebook covers basics of data cleaning, EDA, feature engineering, and data modelling. For more in-deph data analysis, please consider Kaggle Kernels: https://www.kaggle.com/c/rossmann-store-sales/kernels\n",
    "\n",
    "**IMPORTANT: Make sure you do not skip any cells. In that case you risk not being able to accomplish given tasks.** \n"
   ]
  },
  {
   "cell_type": "markdown",
   "metadata": {},
   "source": [
    "## Rossmann Data Cleaning "
   ]
  },
  {
   "cell_type": "markdown",
   "metadata": {},
   "source": [
    "You are provided with historical sales data for 1,115 Rossmann stores. The task is to forecast the \"Sales\" column for the test set. In this first part of the notebook we will walk you through basic steps that need to be done before start with baseline modelling."
   ]
  },
  {
   "cell_type": "markdown",
   "metadata": {
    "_cell_guid": "dd08db0b-3c0e-4a12-b77d-348b430b33d7",
    "_uuid": "82658364a5412b45f3c1bdba11c0bc17a7a9105b"
   },
   "source": [
    "### Load libraries and data"
   ]
  },
  {
   "cell_type": "code",
   "execution_count": 117,
   "metadata": {
    "_cell_guid": "acc6733e-b0f0-4d08-bd45-d50881091212",
    "_uuid": "511329117440698529039824b10aed63cf457722"
   },
   "outputs": [],
   "source": [
    "# NumPy for numerical computing\n",
    "import numpy as np\n",
    "\n",
    "# Pandas for DataFrames\n",
    "import pandas as pd\n",
    "from pandas import DataFrame\n",
    "from pandas import TimeGrouper\n",
    "\n",
    "# Matplotlib for visualization\n",
    "from matplotlib import pyplot as plt\n",
    "\n",
    "# Display plots in the notebook\n",
    "%matplotlib inline \n",
    "\n",
    "# Seaborn for easier visualization\n",
    "import seaborn as sns"
   ]
  },
  {
   "cell_type": "code",
   "execution_count": 118,
   "metadata": {
    "_cell_guid": "0a97eeb3-097f-45a3-8ebf-6309e6bcd0cc",
    "_uuid": "aadc7b21d040e576b32b8d0c5e5fd2dd5e22eedd"
   },
   "outputs": [
    {
     "name": "stderr",
     "output_type": "stream",
     "text": [
      "/Users/claire/Documents/dev/e14a/lab_2/my_venv/lib/python3.7/site-packages/IPython/core/interactiveshell.py:2785: DtypeWarning: Columns (7) have mixed types. Specify dtype option on import or set low_memory=False.\n",
      "  interactivity=interactivity, compiler=compiler, result=result)\n"
     ]
    },
    {
     "data": {
      "text/html": [
       "<div>\n",
       "<style scoped>\n",
       "    .dataframe tbody tr th:only-of-type {\n",
       "        vertical-align: middle;\n",
       "    }\n",
       "\n",
       "    .dataframe tbody tr th {\n",
       "        vertical-align: top;\n",
       "    }\n",
       "\n",
       "    .dataframe thead th {\n",
       "        text-align: right;\n",
       "    }\n",
       "</style>\n",
       "<table border=\"1\" class=\"dataframe\">\n",
       "  <thead>\n",
       "    <tr style=\"text-align: right;\">\n",
       "      <th></th>\n",
       "      <th>Store</th>\n",
       "      <th>DayOfWeek</th>\n",
       "      <th>Date</th>\n",
       "      <th>Sales</th>\n",
       "      <th>Customers</th>\n",
       "      <th>Open</th>\n",
       "      <th>Promo</th>\n",
       "      <th>StateHoliday</th>\n",
       "      <th>SchoolHoliday</th>\n",
       "    </tr>\n",
       "  </thead>\n",
       "  <tbody>\n",
       "    <tr>\n",
       "      <th>0</th>\n",
       "      <td>1</td>\n",
       "      <td>5</td>\n",
       "      <td>2015-07-31</td>\n",
       "      <td>5263</td>\n",
       "      <td>555</td>\n",
       "      <td>1</td>\n",
       "      <td>1</td>\n",
       "      <td>0</td>\n",
       "      <td>1</td>\n",
       "    </tr>\n",
       "    <tr>\n",
       "      <th>1</th>\n",
       "      <td>2</td>\n",
       "      <td>5</td>\n",
       "      <td>2015-07-31</td>\n",
       "      <td>6064</td>\n",
       "      <td>625</td>\n",
       "      <td>1</td>\n",
       "      <td>1</td>\n",
       "      <td>0</td>\n",
       "      <td>1</td>\n",
       "    </tr>\n",
       "    <tr>\n",
       "      <th>2</th>\n",
       "      <td>3</td>\n",
       "      <td>5</td>\n",
       "      <td>2015-07-31</td>\n",
       "      <td>8314</td>\n",
       "      <td>821</td>\n",
       "      <td>1</td>\n",
       "      <td>1</td>\n",
       "      <td>0</td>\n",
       "      <td>1</td>\n",
       "    </tr>\n",
       "    <tr>\n",
       "      <th>3</th>\n",
       "      <td>4</td>\n",
       "      <td>5</td>\n",
       "      <td>2015-07-31</td>\n",
       "      <td>13995</td>\n",
       "      <td>1498</td>\n",
       "      <td>1</td>\n",
       "      <td>1</td>\n",
       "      <td>0</td>\n",
       "      <td>1</td>\n",
       "    </tr>\n",
       "    <tr>\n",
       "      <th>4</th>\n",
       "      <td>5</td>\n",
       "      <td>5</td>\n",
       "      <td>2015-07-31</td>\n",
       "      <td>4822</td>\n",
       "      <td>559</td>\n",
       "      <td>1</td>\n",
       "      <td>1</td>\n",
       "      <td>0</td>\n",
       "      <td>1</td>\n",
       "    </tr>\n",
       "  </tbody>\n",
       "</table>\n",
       "</div>"
      ],
      "text/plain": [
       "   Store  DayOfWeek        Date  Sales  Customers  Open  Promo StateHoliday  \\\n",
       "0      1          5  2015-07-31   5263        555     1      1            0   \n",
       "1      2          5  2015-07-31   6064        625     1      1            0   \n",
       "2      3          5  2015-07-31   8314        821     1      1            0   \n",
       "3      4          5  2015-07-31  13995       1498     1      1            0   \n",
       "4      5          5  2015-07-31   4822        559     1      1            0   \n",
       "\n",
       "   SchoolHoliday  \n",
       "0              1  \n",
       "1              1  \n",
       "2              1  \n",
       "3              1  \n",
       "4              1  "
      ]
     },
     "execution_count": 118,
     "metadata": {},
     "output_type": "execute_result"
    }
   ],
   "source": [
    "# Load data from CSV\n",
    "train_dataset = pd.read_csv(\"static/data/train.csv\")\n",
    "stores = pd.read_csv(\"static/data/store.csv\")\n",
    "\n",
    "train_dataset.head()"
   ]
  },
  {
   "cell_type": "markdown",
   "metadata": {},
   "source": [
    "The train data set contains sales by day for each store with the following columns:\n",
    "\n",
    "- Store - a unique id number\n",
    "- DayOfWeek/Date - the day of the week (1-7) and date (YYYY-MM-DD) for a sales data point\n",
    "- Sales - the sales for a given day\n",
    "- Customers - the number of customers on a given day. This column is highly correlated with sales and is not present in the test set.\n",
    "- Open - Values: 0 = closed, 1 = open\n",
    "- Promo - indicates whether a store was running a sales promotion that day\n",
    "- StateHoliday - Values: a = public holiday, b = Easter holiday, c = Christmas, 0 = None\n",
    "- SchoolHoliday - indicates if a store was affected by the closure of public schools on that day"
   ]
  },
  {
   "cell_type": "markdown",
   "metadata": {},
   "source": [
    "###### Question 1"
   ]
  },
  {
   "cell_type": "code",
   "execution_count": 119,
   "metadata": {},
   "outputs": [
    {
     "data": {
      "text/html": [
       "<div>\n",
       "<style scoped>\n",
       "    .dataframe tbody tr th:only-of-type {\n",
       "        vertical-align: middle;\n",
       "    }\n",
       "\n",
       "    .dataframe tbody tr th {\n",
       "        vertical-align: top;\n",
       "    }\n",
       "\n",
       "    .dataframe thead th {\n",
       "        text-align: right;\n",
       "    }\n",
       "</style>\n",
       "<table border=\"1\" class=\"dataframe\">\n",
       "  <thead>\n",
       "    <tr style=\"text-align: right;\">\n",
       "      <th></th>\n",
       "      <th>Store</th>\n",
       "      <th>StoreType</th>\n",
       "      <th>Assortment</th>\n",
       "      <th>CompetitionDistance</th>\n",
       "      <th>CompetitionOpenSinceMonth</th>\n",
       "      <th>CompetitionOpenSinceYear</th>\n",
       "      <th>Promo2</th>\n",
       "      <th>Promo2SinceWeek</th>\n",
       "      <th>Promo2SinceYear</th>\n",
       "      <th>PromoInterval</th>\n",
       "    </tr>\n",
       "  </thead>\n",
       "  <tbody>\n",
       "    <tr>\n",
       "      <th>0</th>\n",
       "      <td>1</td>\n",
       "      <td>c</td>\n",
       "      <td>a</td>\n",
       "      <td>1270.0</td>\n",
       "      <td>9.0</td>\n",
       "      <td>2008.0</td>\n",
       "      <td>0</td>\n",
       "      <td>NaN</td>\n",
       "      <td>NaN</td>\n",
       "      <td>NaN</td>\n",
       "    </tr>\n",
       "    <tr>\n",
       "      <th>1</th>\n",
       "      <td>2</td>\n",
       "      <td>a</td>\n",
       "      <td>a</td>\n",
       "      <td>570.0</td>\n",
       "      <td>11.0</td>\n",
       "      <td>2007.0</td>\n",
       "      <td>1</td>\n",
       "      <td>13.0</td>\n",
       "      <td>2010.0</td>\n",
       "      <td>Jan,Apr,Jul,Oct</td>\n",
       "    </tr>\n",
       "    <tr>\n",
       "      <th>2</th>\n",
       "      <td>3</td>\n",
       "      <td>a</td>\n",
       "      <td>a</td>\n",
       "      <td>14130.0</td>\n",
       "      <td>12.0</td>\n",
       "      <td>2006.0</td>\n",
       "      <td>1</td>\n",
       "      <td>14.0</td>\n",
       "      <td>2011.0</td>\n",
       "      <td>Jan,Apr,Jul,Oct</td>\n",
       "    </tr>\n",
       "    <tr>\n",
       "      <th>3</th>\n",
       "      <td>4</td>\n",
       "      <td>c</td>\n",
       "      <td>c</td>\n",
       "      <td>620.0</td>\n",
       "      <td>9.0</td>\n",
       "      <td>2009.0</td>\n",
       "      <td>0</td>\n",
       "      <td>NaN</td>\n",
       "      <td>NaN</td>\n",
       "      <td>NaN</td>\n",
       "    </tr>\n",
       "    <tr>\n",
       "      <th>4</th>\n",
       "      <td>5</td>\n",
       "      <td>a</td>\n",
       "      <td>a</td>\n",
       "      <td>29910.0</td>\n",
       "      <td>4.0</td>\n",
       "      <td>2015.0</td>\n",
       "      <td>0</td>\n",
       "      <td>NaN</td>\n",
       "      <td>NaN</td>\n",
       "      <td>NaN</td>\n",
       "    </tr>\n",
       "  </tbody>\n",
       "</table>\n",
       "</div>"
      ],
      "text/plain": [
       "   Store StoreType Assortment  CompetitionDistance  CompetitionOpenSinceMonth  \\\n",
       "0      1         c          a               1270.0                        9.0   \n",
       "1      2         a          a                570.0                       11.0   \n",
       "2      3         a          a              14130.0                       12.0   \n",
       "3      4         c          c                620.0                        9.0   \n",
       "4      5         a          a              29910.0                        4.0   \n",
       "\n",
       "   CompetitionOpenSinceYear  Promo2  Promo2SinceWeek  Promo2SinceYear  \\\n",
       "0                    2008.0       0              NaN              NaN   \n",
       "1                    2007.0       1             13.0           2010.0   \n",
       "2                    2006.0       1             14.0           2011.0   \n",
       "3                    2009.0       0              NaN              NaN   \n",
       "4                    2015.0       0              NaN              NaN   \n",
       "\n",
       "     PromoInterval  \n",
       "0              NaN  \n",
       "1  Jan,Apr,Jul,Oct  \n",
       "2  Jan,Apr,Jul,Oct  \n",
       "3              NaN  \n",
       "4              NaN  "
      ]
     },
     "execution_count": 119,
     "metadata": {},
     "output_type": "execute_result"
    }
   ],
   "source": [
    "# YOUR CODE GOES HERE\n",
    "# Print first five rows of the \"stores\" dataset\n",
    "\n",
    "stores.head()\n"
   ]
  },
  {
   "cell_type": "markdown",
   "metadata": {},
   "source": [
    "The stores data set contains additional columns about each store that does not vary by day:\n",
    "\n",
    "- StoreType - differentiates between 4 different store models: a, b, c, d\n",
    "- Assortment - describes the level of products available: a = basic, b = extra, c = extended\n",
    "- CompetitionDistance - distance in meters to the nearest competitor\n",
    "- CompetitionOpenSince[Month/Year] - month/year when the nearest competitor was opened\n",
    "- Promo2 - indicator for a recurring promotion: 0 = store not participating, 1 = participating\n",
    "- Promo2Since[Week/Year] - calendar week/year when the store started participating in Promo2\n",
    "- PromoInterval - describes the intervals when Promo2 is started. E.g. \"Feb,May,Aug,Nov\" means each round starts in those months of any given year for that store"
   ]
  },
  {
   "cell_type": "markdown",
   "metadata": {},
   "source": [
    "###### Question 2"
   ]
  },
  {
   "cell_type": "code",
   "execution_count": 120,
   "metadata": {
    "scrolled": true
   },
   "outputs": [
    {
     "data": {
      "text/plain": [
       "((1017209, 9), (1115, 10))"
      ]
     },
     "execution_count": 120,
     "metadata": {},
     "output_type": "execute_result"
    }
   ],
   "source": [
    "# YOUR CODE GOES HERE\n",
    "# Chech out the shape of the datasets. \n",
    "# We have a lot of data observations to play around.\n",
    "\n",
    "train_dataset.shape, stores.shape\n"
   ]
  },
  {
   "cell_type": "markdown",
   "metadata": {},
   "source": [
    "Take a look and understand different data types."
   ]
  },
  {
   "cell_type": "code",
   "execution_count": 121,
   "metadata": {
    "_cell_guid": "99a7f662-57af-477a-a23c-3bfcf7ae5513",
    "_uuid": "7c499cc55c5007b8f58f5a5e1e5c64917286ff3e"
   },
   "outputs": [
    {
     "name": "stdout",
     "output_type": "stream",
     "text": [
      "Store             int64\n",
      "DayOfWeek         int64\n",
      "Date             object\n",
      "Sales             int64\n",
      "Customers         int64\n",
      "Open              int64\n",
      "Promo             int64\n",
      "StateHoliday     object\n",
      "SchoolHoliday     int64\n",
      "dtype: object \n",
      "\n",
      "Store                          int64\n",
      "StoreType                     object\n",
      "Assortment                    object\n",
      "CompetitionDistance          float64\n",
      "CompetitionOpenSinceMonth    float64\n",
      "CompetitionOpenSinceYear     float64\n",
      "Promo2                         int64\n",
      "Promo2SinceWeek              float64\n",
      "Promo2SinceYear              float64\n",
      "PromoInterval                 object\n",
      "dtype: object\n"
     ]
    }
   ],
   "source": [
    "# Column datatypes\n",
    "print(train_dataset.dtypes,'\\n')\n",
    "print(stores.dtypes)"
   ]
  },
  {
   "cell_type": "markdown",
   "metadata": {
    "_cell_guid": "453b25d1-f99c-4b13-8310-df4f736e5c6b",
    "_uuid": "62794228d5ba90099fdc5ce2f75cc31d89708258"
   },
   "source": [
    "### Drop unwanted data"
   ]
  },
  {
   "cell_type": "markdown",
   "metadata": {},
   "source": [
    "The overall goals during the data cleaning phase is to fix any problems with the provided data sets, such as:\n",
    "\n",
    "- Fix inconsistent data\n",
    "- Impute missing data (There are many ways to impute data, but for the purpose of this assignment, we will simply drop missing data for convenience)\n",
    "- Convert categorical variables to one-hot encoded binary variables\n",
    "- Check for outlying values, and correct them if necessary\n",
    "\n",
    "We needed to fix these types of problems so that our prediction models could be fit as accurately as possible."
   ]
  },
  {
   "cell_type": "code",
   "execution_count": 122,
   "metadata": {
    "_cell_guid": "0b3e01b4-8d51-4029-8f29-40a89d95508b",
    "_uuid": "5c2634eec6e5b995d822ffbd09724dad67b003d5"
   },
   "outputs": [
    {
     "data": {
      "text/plain": [
       "((1017209, 9), (1115, 10))"
      ]
     },
     "execution_count": 122,
     "metadata": {},
     "output_type": "execute_result"
    }
   ],
   "source": [
    "# Check for duplicates\n",
    "train_dataset = train_dataset.drop_duplicates()\n",
    "stores = stores.drop_duplicates()\n",
    "\n",
    "# Print shape after removing duplicates\n",
    "train_dataset.shape, stores.shape"
   ]
  },
  {
   "cell_type": "markdown",
   "metadata": {},
   "source": [
    "There were no duplicates. Now, let us check closed stores, stores with no customers, and stores where sales values equals zero."
   ]
  },
  {
   "cell_type": "code",
   "execution_count": 123,
   "metadata": {
    "_cell_guid": "56e7d8b2-d9c0-4bba-9e38-b63fcb601814",
    "_uuid": "1d340477c6f43609eba155140b5f573ed21d6629"
   },
   "outputs": [
    {
     "name": "stdout",
     "output_type": "stream",
     "text": [
      "The number of records for closed stores:  (172817, 9)\n"
     ]
    }
   ],
   "source": [
    "# Check how many records are for days when stores are closed\n",
    "print(\"The number of records for closed stores: \", train_dataset[train_dataset.Open == 0].shape)"
   ]
  },
  {
   "cell_type": "markdown",
   "metadata": {},
   "source": [
    "Even though there are substantial number of records recorded when stores are closed, we are going to drop these observations because sales, our response variable, would be 0 for the days when the store is closed (there is no need for regression). "
   ]
  },
  {
   "cell_type": "code",
   "execution_count": 124,
   "metadata": {
    "_cell_guid": "56e7d8b2-d9c0-4bba-9e38-b63fcb601814",
    "_uuid": "1d340477c6f43609eba155140b5f573ed21d6629"
   },
   "outputs": [
    {
     "data": {
      "text/plain": [
       "(844392, 9)"
      ]
     },
     "execution_count": 124,
     "metadata": {},
     "output_type": "execute_result"
    }
   ],
   "source": [
    "# Drop observations with closed stores\n",
    "train_dataset = train_dataset[train_dataset.Open != 0]\n",
    "train_dataset.shape"
   ]
  },
  {
   "cell_type": "markdown",
   "metadata": {},
   "source": [
    "###### Question 3"
   ]
  },
  {
   "cell_type": "code",
   "execution_count": 125,
   "metadata": {},
   "outputs": [
    {
     "name": "stdout",
     "output_type": "stream",
     "text": [
      "The number of records for stores where Customers=0:  (52, 9)\n"
     ]
    }
   ],
   "source": [
    "# YOUR CODE GOES HERE\n",
    "# Print the number of stores where Customers=0\n",
    "\n",
    "print(\"The number of records for stores where Customers=0: \", train_dataset[train_dataset.Customers == 0].shape)"
   ]
  },
  {
   "cell_type": "markdown",
   "metadata": {},
   "source": [
    "###### Question 4"
   ]
  },
  {
   "cell_type": "code",
   "execution_count": 126,
   "metadata": {},
   "outputs": [
    {
     "name": "stdout",
     "output_type": "stream",
     "text": [
      "The number of records for stores where Sales=0:  (54, 9)\n"
     ]
    }
   ],
   "source": [
    "# YOUR CODE GOES HERE\n",
    "# Print the number of stores where Sales=0\n",
    "\n",
    "print(\"The number of records for stores where Sales=0: \", train_dataset[train_dataset.Sales == 0].shape)"
   ]
  },
  {
   "cell_type": "markdown",
   "metadata": {},
   "source": [
    "Let us check for missing values in `train_dataset` and `stores`"
   ]
  },
  {
   "cell_type": "code",
   "execution_count": 127,
   "metadata": {},
   "outputs": [
    {
     "name": "stdout",
     "output_type": "stream",
     "text": [
      "Store            0\n",
      "DayOfWeek        0\n",
      "Date             0\n",
      "Sales            0\n",
      "Customers        0\n",
      "Open             0\n",
      "Promo            0\n",
      "StateHoliday     0\n",
      "SchoolHoliday    0\n",
      "dtype: int64\n",
      "Store                          0\n",
      "StoreType                      0\n",
      "Assortment                     0\n",
      "CompetitionDistance            3\n",
      "CompetitionOpenSinceMonth    354\n",
      "CompetitionOpenSinceYear     354\n",
      "Promo2                         0\n",
      "Promo2SinceWeek              544\n",
      "Promo2SinceYear              544\n",
      "PromoInterval                544\n",
      "dtype: int64\n"
     ]
    }
   ],
   "source": [
    "print(train_dataset.isnull().sum())\n",
    "print(stores.isnull().sum())"
   ]
  },
  {
   "cell_type": "markdown",
   "metadata": {},
   "source": [
    "Drop unuseful columns:\n",
    "- in `train_dataset`: `Open` is unuseful because it is consisted of all 1's (we dropped the observations with Open = 0 earlier).\n",
    "- in `stores`: `CompetitionOpenSinceMonth`, `CompetitionOpenSinceYear`, `Promo2SinceWeek`, `Promo2SinceYear`, `PromoInterval` because they have too many missing values."
   ]
  },
  {
   "cell_type": "code",
   "execution_count": 128,
   "metadata": {},
   "outputs": [],
   "source": [
    "train_dataset.drop(['Open'], axis=1, inplace=True)\n",
    "stores.drop(['CompetitionOpenSinceMonth', \n",
    "             'CompetitionOpenSinceYear', \n",
    "             'Promo2SinceWeek',\n",
    "             'Promo2SinceYear',\n",
    "             'PromoInterval'], axis=1, inplace=True)"
   ]
  },
  {
   "cell_type": "markdown",
   "metadata": {},
   "source": [
    "Drop the 3 rows of `stores` where `CompetitionDistance` is missing:"
   ]
  },
  {
   "cell_type": "code",
   "execution_count": 129,
   "metadata": {},
   "outputs": [
    {
     "data": {
      "text/plain": [
       "(1112, 5)"
      ]
     },
     "execution_count": 129,
     "metadata": {},
     "output_type": "execute_result"
    }
   ],
   "source": [
    "stores.dropna(inplace=True)\n",
    "stores.shape"
   ]
  },
  {
   "cell_type": "markdown",
   "metadata": {},
   "source": [
    "### Joining the \"Train\" and \"Store\" tables "
   ]
  },
  {
   "cell_type": "markdown",
   "metadata": {},
   "source": [
    "###### Question 5"
   ]
  },
  {
   "cell_type": "code",
   "execution_count": 130,
   "metadata": {
    "scrolled": true
   },
   "outputs": [
    {
     "data": {
      "text/html": [
       "<div>\n",
       "<style scoped>\n",
       "    .dataframe tbody tr th:only-of-type {\n",
       "        vertical-align: middle;\n",
       "    }\n",
       "\n",
       "    .dataframe tbody tr th {\n",
       "        vertical-align: top;\n",
       "    }\n",
       "\n",
       "    .dataframe thead th {\n",
       "        text-align: right;\n",
       "    }\n",
       "</style>\n",
       "<table border=\"1\" class=\"dataframe\">\n",
       "  <thead>\n",
       "    <tr style=\"text-align: right;\">\n",
       "      <th></th>\n",
       "      <th>Store</th>\n",
       "      <th>DayOfWeek</th>\n",
       "      <th>Date</th>\n",
       "      <th>Sales</th>\n",
       "      <th>Customers</th>\n",
       "      <th>Promo</th>\n",
       "      <th>StateHoliday</th>\n",
       "      <th>SchoolHoliday</th>\n",
       "      <th>StoreType</th>\n",
       "      <th>Assortment</th>\n",
       "      <th>CompetitionDistance</th>\n",
       "      <th>Promo2</th>\n",
       "    </tr>\n",
       "  </thead>\n",
       "  <tbody>\n",
       "    <tr>\n",
       "      <th>0</th>\n",
       "      <td>1</td>\n",
       "      <td>5</td>\n",
       "      <td>2015-07-31</td>\n",
       "      <td>5263</td>\n",
       "      <td>555</td>\n",
       "      <td>1</td>\n",
       "      <td>0</td>\n",
       "      <td>1</td>\n",
       "      <td>c</td>\n",
       "      <td>a</td>\n",
       "      <td>1270.0</td>\n",
       "      <td>0</td>\n",
       "    </tr>\n",
       "    <tr>\n",
       "      <th>1</th>\n",
       "      <td>1</td>\n",
       "      <td>4</td>\n",
       "      <td>2015-07-30</td>\n",
       "      <td>5020</td>\n",
       "      <td>546</td>\n",
       "      <td>1</td>\n",
       "      <td>0</td>\n",
       "      <td>1</td>\n",
       "      <td>c</td>\n",
       "      <td>a</td>\n",
       "      <td>1270.0</td>\n",
       "      <td>0</td>\n",
       "    </tr>\n",
       "    <tr>\n",
       "      <th>2</th>\n",
       "      <td>1</td>\n",
       "      <td>3</td>\n",
       "      <td>2015-07-29</td>\n",
       "      <td>4782</td>\n",
       "      <td>523</td>\n",
       "      <td>1</td>\n",
       "      <td>0</td>\n",
       "      <td>1</td>\n",
       "      <td>c</td>\n",
       "      <td>a</td>\n",
       "      <td>1270.0</td>\n",
       "      <td>0</td>\n",
       "    </tr>\n",
       "    <tr>\n",
       "      <th>3</th>\n",
       "      <td>1</td>\n",
       "      <td>2</td>\n",
       "      <td>2015-07-28</td>\n",
       "      <td>5011</td>\n",
       "      <td>560</td>\n",
       "      <td>1</td>\n",
       "      <td>0</td>\n",
       "      <td>1</td>\n",
       "      <td>c</td>\n",
       "      <td>a</td>\n",
       "      <td>1270.0</td>\n",
       "      <td>0</td>\n",
       "    </tr>\n",
       "    <tr>\n",
       "      <th>4</th>\n",
       "      <td>1</td>\n",
       "      <td>1</td>\n",
       "      <td>2015-07-27</td>\n",
       "      <td>6102</td>\n",
       "      <td>612</td>\n",
       "      <td>1</td>\n",
       "      <td>0</td>\n",
       "      <td>1</td>\n",
       "      <td>c</td>\n",
       "      <td>a</td>\n",
       "      <td>1270.0</td>\n",
       "      <td>0</td>\n",
       "    </tr>\n",
       "    <tr>\n",
       "      <th>5</th>\n",
       "      <td>1</td>\n",
       "      <td>6</td>\n",
       "      <td>2015-07-25</td>\n",
       "      <td>4364</td>\n",
       "      <td>500</td>\n",
       "      <td>0</td>\n",
       "      <td>0</td>\n",
       "      <td>0</td>\n",
       "      <td>c</td>\n",
       "      <td>a</td>\n",
       "      <td>1270.0</td>\n",
       "      <td>0</td>\n",
       "    </tr>\n",
       "    <tr>\n",
       "      <th>6</th>\n",
       "      <td>1</td>\n",
       "      <td>5</td>\n",
       "      <td>2015-07-24</td>\n",
       "      <td>3706</td>\n",
       "      <td>459</td>\n",
       "      <td>0</td>\n",
       "      <td>0</td>\n",
       "      <td>0</td>\n",
       "      <td>c</td>\n",
       "      <td>a</td>\n",
       "      <td>1270.0</td>\n",
       "      <td>0</td>\n",
       "    </tr>\n",
       "    <tr>\n",
       "      <th>7</th>\n",
       "      <td>1</td>\n",
       "      <td>4</td>\n",
       "      <td>2015-07-23</td>\n",
       "      <td>3769</td>\n",
       "      <td>503</td>\n",
       "      <td>0</td>\n",
       "      <td>0</td>\n",
       "      <td>0</td>\n",
       "      <td>c</td>\n",
       "      <td>a</td>\n",
       "      <td>1270.0</td>\n",
       "      <td>0</td>\n",
       "    </tr>\n",
       "    <tr>\n",
       "      <th>8</th>\n",
       "      <td>1</td>\n",
       "      <td>3</td>\n",
       "      <td>2015-07-22</td>\n",
       "      <td>3464</td>\n",
       "      <td>463</td>\n",
       "      <td>0</td>\n",
       "      <td>0</td>\n",
       "      <td>0</td>\n",
       "      <td>c</td>\n",
       "      <td>a</td>\n",
       "      <td>1270.0</td>\n",
       "      <td>0</td>\n",
       "    </tr>\n",
       "    <tr>\n",
       "      <th>9</th>\n",
       "      <td>1</td>\n",
       "      <td>2</td>\n",
       "      <td>2015-07-21</td>\n",
       "      <td>3558</td>\n",
       "      <td>469</td>\n",
       "      <td>0</td>\n",
       "      <td>0</td>\n",
       "      <td>0</td>\n",
       "      <td>c</td>\n",
       "      <td>a</td>\n",
       "      <td>1270.0</td>\n",
       "      <td>0</td>\n",
       "    </tr>\n",
       "    <tr>\n",
       "      <th>10</th>\n",
       "      <td>1</td>\n",
       "      <td>1</td>\n",
       "      <td>2015-07-20</td>\n",
       "      <td>4395</td>\n",
       "      <td>526</td>\n",
       "      <td>0</td>\n",
       "      <td>0</td>\n",
       "      <td>0</td>\n",
       "      <td>c</td>\n",
       "      <td>a</td>\n",
       "      <td>1270.0</td>\n",
       "      <td>0</td>\n",
       "    </tr>\n",
       "    <tr>\n",
       "      <th>11</th>\n",
       "      <td>1</td>\n",
       "      <td>6</td>\n",
       "      <td>2015-07-18</td>\n",
       "      <td>4406</td>\n",
       "      <td>512</td>\n",
       "      <td>0</td>\n",
       "      <td>0</td>\n",
       "      <td>0</td>\n",
       "      <td>c</td>\n",
       "      <td>a</td>\n",
       "      <td>1270.0</td>\n",
       "      <td>0</td>\n",
       "    </tr>\n",
       "    <tr>\n",
       "      <th>12</th>\n",
       "      <td>1</td>\n",
       "      <td>5</td>\n",
       "      <td>2015-07-17</td>\n",
       "      <td>4852</td>\n",
       "      <td>519</td>\n",
       "      <td>1</td>\n",
       "      <td>0</td>\n",
       "      <td>0</td>\n",
       "      <td>c</td>\n",
       "      <td>a</td>\n",
       "      <td>1270.0</td>\n",
       "      <td>0</td>\n",
       "    </tr>\n",
       "    <tr>\n",
       "      <th>13</th>\n",
       "      <td>1</td>\n",
       "      <td>4</td>\n",
       "      <td>2015-07-16</td>\n",
       "      <td>4427</td>\n",
       "      <td>517</td>\n",
       "      <td>1</td>\n",
       "      <td>0</td>\n",
       "      <td>0</td>\n",
       "      <td>c</td>\n",
       "      <td>a</td>\n",
       "      <td>1270.0</td>\n",
       "      <td>0</td>\n",
       "    </tr>\n",
       "    <tr>\n",
       "      <th>14</th>\n",
       "      <td>1</td>\n",
       "      <td>3</td>\n",
       "      <td>2015-07-15</td>\n",
       "      <td>4767</td>\n",
       "      <td>550</td>\n",
       "      <td>1</td>\n",
       "      <td>0</td>\n",
       "      <td>0</td>\n",
       "      <td>c</td>\n",
       "      <td>a</td>\n",
       "      <td>1270.0</td>\n",
       "      <td>0</td>\n",
       "    </tr>\n",
       "    <tr>\n",
       "      <th>15</th>\n",
       "      <td>1</td>\n",
       "      <td>2</td>\n",
       "      <td>2015-07-14</td>\n",
       "      <td>5042</td>\n",
       "      <td>544</td>\n",
       "      <td>1</td>\n",
       "      <td>0</td>\n",
       "      <td>0</td>\n",
       "      <td>c</td>\n",
       "      <td>a</td>\n",
       "      <td>1270.0</td>\n",
       "      <td>0</td>\n",
       "    </tr>\n",
       "    <tr>\n",
       "      <th>16</th>\n",
       "      <td>1</td>\n",
       "      <td>1</td>\n",
       "      <td>2015-07-13</td>\n",
       "      <td>5054</td>\n",
       "      <td>553</td>\n",
       "      <td>1</td>\n",
       "      <td>0</td>\n",
       "      <td>0</td>\n",
       "      <td>c</td>\n",
       "      <td>a</td>\n",
       "      <td>1270.0</td>\n",
       "      <td>0</td>\n",
       "    </tr>\n",
       "    <tr>\n",
       "      <th>17</th>\n",
       "      <td>1</td>\n",
       "      <td>6</td>\n",
       "      <td>2015-07-11</td>\n",
       "      <td>3530</td>\n",
       "      <td>441</td>\n",
       "      <td>0</td>\n",
       "      <td>0</td>\n",
       "      <td>0</td>\n",
       "      <td>c</td>\n",
       "      <td>a</td>\n",
       "      <td>1270.0</td>\n",
       "      <td>0</td>\n",
       "    </tr>\n",
       "    <tr>\n",
       "      <th>18</th>\n",
       "      <td>1</td>\n",
       "      <td>5</td>\n",
       "      <td>2015-07-10</td>\n",
       "      <td>3808</td>\n",
       "      <td>449</td>\n",
       "      <td>0</td>\n",
       "      <td>0</td>\n",
       "      <td>0</td>\n",
       "      <td>c</td>\n",
       "      <td>a</td>\n",
       "      <td>1270.0</td>\n",
       "      <td>0</td>\n",
       "    </tr>\n",
       "    <tr>\n",
       "      <th>19</th>\n",
       "      <td>1</td>\n",
       "      <td>4</td>\n",
       "      <td>2015-07-09</td>\n",
       "      <td>3897</td>\n",
       "      <td>480</td>\n",
       "      <td>0</td>\n",
       "      <td>0</td>\n",
       "      <td>0</td>\n",
       "      <td>c</td>\n",
       "      <td>a</td>\n",
       "      <td>1270.0</td>\n",
       "      <td>0</td>\n",
       "    </tr>\n",
       "    <tr>\n",
       "      <th>20</th>\n",
       "      <td>1</td>\n",
       "      <td>3</td>\n",
       "      <td>2015-07-08</td>\n",
       "      <td>3797</td>\n",
       "      <td>485</td>\n",
       "      <td>0</td>\n",
       "      <td>0</td>\n",
       "      <td>0</td>\n",
       "      <td>c</td>\n",
       "      <td>a</td>\n",
       "      <td>1270.0</td>\n",
       "      <td>0</td>\n",
       "    </tr>\n",
       "    <tr>\n",
       "      <th>21</th>\n",
       "      <td>1</td>\n",
       "      <td>2</td>\n",
       "      <td>2015-07-07</td>\n",
       "      <td>3650</td>\n",
       "      <td>485</td>\n",
       "      <td>0</td>\n",
       "      <td>0</td>\n",
       "      <td>0</td>\n",
       "      <td>c</td>\n",
       "      <td>a</td>\n",
       "      <td>1270.0</td>\n",
       "      <td>0</td>\n",
       "    </tr>\n",
       "    <tr>\n",
       "      <th>22</th>\n",
       "      <td>1</td>\n",
       "      <td>1</td>\n",
       "      <td>2015-07-06</td>\n",
       "      <td>4359</td>\n",
       "      <td>540</td>\n",
       "      <td>0</td>\n",
       "      <td>0</td>\n",
       "      <td>0</td>\n",
       "      <td>c</td>\n",
       "      <td>a</td>\n",
       "      <td>1270.0</td>\n",
       "      <td>0</td>\n",
       "    </tr>\n",
       "    <tr>\n",
       "      <th>23</th>\n",
       "      <td>1</td>\n",
       "      <td>6</td>\n",
       "      <td>2015-07-04</td>\n",
       "      <td>4797</td>\n",
       "      <td>560</td>\n",
       "      <td>0</td>\n",
       "      <td>0</td>\n",
       "      <td>0</td>\n",
       "      <td>c</td>\n",
       "      <td>a</td>\n",
       "      <td>1270.0</td>\n",
       "      <td>0</td>\n",
       "    </tr>\n",
       "    <tr>\n",
       "      <th>24</th>\n",
       "      <td>1</td>\n",
       "      <td>5</td>\n",
       "      <td>2015-07-03</td>\n",
       "      <td>4665</td>\n",
       "      <td>538</td>\n",
       "      <td>1</td>\n",
       "      <td>0</td>\n",
       "      <td>0</td>\n",
       "      <td>c</td>\n",
       "      <td>a</td>\n",
       "      <td>1270.0</td>\n",
       "      <td>0</td>\n",
       "    </tr>\n",
       "    <tr>\n",
       "      <th>25</th>\n",
       "      <td>1</td>\n",
       "      <td>4</td>\n",
       "      <td>2015-07-02</td>\n",
       "      <td>5558</td>\n",
       "      <td>573</td>\n",
       "      <td>1</td>\n",
       "      <td>0</td>\n",
       "      <td>0</td>\n",
       "      <td>c</td>\n",
       "      <td>a</td>\n",
       "      <td>1270.0</td>\n",
       "      <td>0</td>\n",
       "    </tr>\n",
       "    <tr>\n",
       "      <th>26</th>\n",
       "      <td>1</td>\n",
       "      <td>3</td>\n",
       "      <td>2015-07-01</td>\n",
       "      <td>5223</td>\n",
       "      <td>562</td>\n",
       "      <td>1</td>\n",
       "      <td>0</td>\n",
       "      <td>0</td>\n",
       "      <td>c</td>\n",
       "      <td>a</td>\n",
       "      <td>1270.0</td>\n",
       "      <td>0</td>\n",
       "    </tr>\n",
       "    <tr>\n",
       "      <th>27</th>\n",
       "      <td>1</td>\n",
       "      <td>2</td>\n",
       "      <td>2015-06-30</td>\n",
       "      <td>5735</td>\n",
       "      <td>568</td>\n",
       "      <td>1</td>\n",
       "      <td>0</td>\n",
       "      <td>0</td>\n",
       "      <td>c</td>\n",
       "      <td>a</td>\n",
       "      <td>1270.0</td>\n",
       "      <td>0</td>\n",
       "    </tr>\n",
       "    <tr>\n",
       "      <th>28</th>\n",
       "      <td>1</td>\n",
       "      <td>1</td>\n",
       "      <td>2015-06-29</td>\n",
       "      <td>5197</td>\n",
       "      <td>541</td>\n",
       "      <td>1</td>\n",
       "      <td>0</td>\n",
       "      <td>0</td>\n",
       "      <td>c</td>\n",
       "      <td>a</td>\n",
       "      <td>1270.0</td>\n",
       "      <td>0</td>\n",
       "    </tr>\n",
       "    <tr>\n",
       "      <th>29</th>\n",
       "      <td>1</td>\n",
       "      <td>6</td>\n",
       "      <td>2015-06-27</td>\n",
       "      <td>4019</td>\n",
       "      <td>463</td>\n",
       "      <td>0</td>\n",
       "      <td>0</td>\n",
       "      <td>0</td>\n",
       "      <td>c</td>\n",
       "      <td>a</td>\n",
       "      <td>1270.0</td>\n",
       "      <td>0</td>\n",
       "    </tr>\n",
       "    <tr>\n",
       "      <th>...</th>\n",
       "      <td>...</td>\n",
       "      <td>...</td>\n",
       "      <td>...</td>\n",
       "      <td>...</td>\n",
       "      <td>...</td>\n",
       "      <td>...</td>\n",
       "      <td>...</td>\n",
       "      <td>...</td>\n",
       "      <td>...</td>\n",
       "      <td>...</td>\n",
       "      <td>...</td>\n",
       "      <td>...</td>\n",
       "    </tr>\n",
       "    <tr>\n",
       "      <th>842176</th>\n",
       "      <td>292</td>\n",
       "      <td>2</td>\n",
       "      <td>2013-02-05</td>\n",
       "      <td>7336</td>\n",
       "      <td>841</td>\n",
       "      <td>1</td>\n",
       "      <td>0</td>\n",
       "      <td>1</td>\n",
       "      <td>a</td>\n",
       "      <td>a</td>\n",
       "      <td>1100.0</td>\n",
       "      <td>0</td>\n",
       "    </tr>\n",
       "    <tr>\n",
       "      <th>842177</th>\n",
       "      <td>292</td>\n",
       "      <td>1</td>\n",
       "      <td>2013-02-04</td>\n",
       "      <td>7584</td>\n",
       "      <td>858</td>\n",
       "      <td>1</td>\n",
       "      <td>0</td>\n",
       "      <td>1</td>\n",
       "      <td>a</td>\n",
       "      <td>a</td>\n",
       "      <td>1100.0</td>\n",
       "      <td>0</td>\n",
       "    </tr>\n",
       "    <tr>\n",
       "      <th>842178</th>\n",
       "      <td>292</td>\n",
       "      <td>6</td>\n",
       "      <td>2013-02-02</td>\n",
       "      <td>3667</td>\n",
       "      <td>412</td>\n",
       "      <td>0</td>\n",
       "      <td>0</td>\n",
       "      <td>0</td>\n",
       "      <td>a</td>\n",
       "      <td>a</td>\n",
       "      <td>1100.0</td>\n",
       "      <td>0</td>\n",
       "    </tr>\n",
       "    <tr>\n",
       "      <th>842179</th>\n",
       "      <td>292</td>\n",
       "      <td>5</td>\n",
       "      <td>2013-02-01</td>\n",
       "      <td>5668</td>\n",
       "      <td>670</td>\n",
       "      <td>0</td>\n",
       "      <td>0</td>\n",
       "      <td>0</td>\n",
       "      <td>a</td>\n",
       "      <td>a</td>\n",
       "      <td>1100.0</td>\n",
       "      <td>0</td>\n",
       "    </tr>\n",
       "    <tr>\n",
       "      <th>842180</th>\n",
       "      <td>292</td>\n",
       "      <td>4</td>\n",
       "      <td>2013-01-31</td>\n",
       "      <td>5657</td>\n",
       "      <td>739</td>\n",
       "      <td>0</td>\n",
       "      <td>0</td>\n",
       "      <td>0</td>\n",
       "      <td>a</td>\n",
       "      <td>a</td>\n",
       "      <td>1100.0</td>\n",
       "      <td>0</td>\n",
       "    </tr>\n",
       "    <tr>\n",
       "      <th>842181</th>\n",
       "      <td>292</td>\n",
       "      <td>3</td>\n",
       "      <td>2013-01-30</td>\n",
       "      <td>4351</td>\n",
       "      <td>653</td>\n",
       "      <td>0</td>\n",
       "      <td>0</td>\n",
       "      <td>0</td>\n",
       "      <td>a</td>\n",
       "      <td>a</td>\n",
       "      <td>1100.0</td>\n",
       "      <td>0</td>\n",
       "    </tr>\n",
       "    <tr>\n",
       "      <th>842182</th>\n",
       "      <td>292</td>\n",
       "      <td>2</td>\n",
       "      <td>2013-01-29</td>\n",
       "      <td>4796</td>\n",
       "      <td>683</td>\n",
       "      <td>0</td>\n",
       "      <td>0</td>\n",
       "      <td>0</td>\n",
       "      <td>a</td>\n",
       "      <td>a</td>\n",
       "      <td>1100.0</td>\n",
       "      <td>0</td>\n",
       "    </tr>\n",
       "    <tr>\n",
       "      <th>842183</th>\n",
       "      <td>292</td>\n",
       "      <td>1</td>\n",
       "      <td>2013-01-28</td>\n",
       "      <td>5510</td>\n",
       "      <td>769</td>\n",
       "      <td>0</td>\n",
       "      <td>0</td>\n",
       "      <td>0</td>\n",
       "      <td>a</td>\n",
       "      <td>a</td>\n",
       "      <td>1100.0</td>\n",
       "      <td>0</td>\n",
       "    </tr>\n",
       "    <tr>\n",
       "      <th>842184</th>\n",
       "      <td>292</td>\n",
       "      <td>6</td>\n",
       "      <td>2013-01-26</td>\n",
       "      <td>3142</td>\n",
       "      <td>362</td>\n",
       "      <td>0</td>\n",
       "      <td>0</td>\n",
       "      <td>0</td>\n",
       "      <td>a</td>\n",
       "      <td>a</td>\n",
       "      <td>1100.0</td>\n",
       "      <td>0</td>\n",
       "    </tr>\n",
       "    <tr>\n",
       "      <th>842185</th>\n",
       "      <td>292</td>\n",
       "      <td>5</td>\n",
       "      <td>2013-01-25</td>\n",
       "      <td>6229</td>\n",
       "      <td>737</td>\n",
       "      <td>1</td>\n",
       "      <td>0</td>\n",
       "      <td>0</td>\n",
       "      <td>a</td>\n",
       "      <td>a</td>\n",
       "      <td>1100.0</td>\n",
       "      <td>0</td>\n",
       "    </tr>\n",
       "    <tr>\n",
       "      <th>842186</th>\n",
       "      <td>292</td>\n",
       "      <td>4</td>\n",
       "      <td>2013-01-24</td>\n",
       "      <td>5605</td>\n",
       "      <td>745</td>\n",
       "      <td>1</td>\n",
       "      <td>0</td>\n",
       "      <td>0</td>\n",
       "      <td>a</td>\n",
       "      <td>a</td>\n",
       "      <td>1100.0</td>\n",
       "      <td>0</td>\n",
       "    </tr>\n",
       "    <tr>\n",
       "      <th>842187</th>\n",
       "      <td>292</td>\n",
       "      <td>3</td>\n",
       "      <td>2013-01-23</td>\n",
       "      <td>5969</td>\n",
       "      <td>710</td>\n",
       "      <td>1</td>\n",
       "      <td>0</td>\n",
       "      <td>0</td>\n",
       "      <td>a</td>\n",
       "      <td>a</td>\n",
       "      <td>1100.0</td>\n",
       "      <td>0</td>\n",
       "    </tr>\n",
       "    <tr>\n",
       "      <th>842188</th>\n",
       "      <td>292</td>\n",
       "      <td>2</td>\n",
       "      <td>2013-01-22</td>\n",
       "      <td>6757</td>\n",
       "      <td>797</td>\n",
       "      <td>1</td>\n",
       "      <td>0</td>\n",
       "      <td>0</td>\n",
       "      <td>a</td>\n",
       "      <td>a</td>\n",
       "      <td>1100.0</td>\n",
       "      <td>0</td>\n",
       "    </tr>\n",
       "    <tr>\n",
       "      <th>842189</th>\n",
       "      <td>292</td>\n",
       "      <td>1</td>\n",
       "      <td>2013-01-21</td>\n",
       "      <td>7863</td>\n",
       "      <td>916</td>\n",
       "      <td>1</td>\n",
       "      <td>0</td>\n",
       "      <td>0</td>\n",
       "      <td>a</td>\n",
       "      <td>a</td>\n",
       "      <td>1100.0</td>\n",
       "      <td>0</td>\n",
       "    </tr>\n",
       "    <tr>\n",
       "      <th>842190</th>\n",
       "      <td>292</td>\n",
       "      <td>6</td>\n",
       "      <td>2013-01-19</td>\n",
       "      <td>2676</td>\n",
       "      <td>328</td>\n",
       "      <td>0</td>\n",
       "      <td>0</td>\n",
       "      <td>0</td>\n",
       "      <td>a</td>\n",
       "      <td>a</td>\n",
       "      <td>1100.0</td>\n",
       "      <td>0</td>\n",
       "    </tr>\n",
       "    <tr>\n",
       "      <th>842191</th>\n",
       "      <td>292</td>\n",
       "      <td>5</td>\n",
       "      <td>2013-01-18</td>\n",
       "      <td>4943</td>\n",
       "      <td>644</td>\n",
       "      <td>0</td>\n",
       "      <td>0</td>\n",
       "      <td>0</td>\n",
       "      <td>a</td>\n",
       "      <td>a</td>\n",
       "      <td>1100.0</td>\n",
       "      <td>0</td>\n",
       "    </tr>\n",
       "    <tr>\n",
       "      <th>842192</th>\n",
       "      <td>292</td>\n",
       "      <td>4</td>\n",
       "      <td>2013-01-17</td>\n",
       "      <td>4829</td>\n",
       "      <td>686</td>\n",
       "      <td>0</td>\n",
       "      <td>0</td>\n",
       "      <td>0</td>\n",
       "      <td>a</td>\n",
       "      <td>a</td>\n",
       "      <td>1100.0</td>\n",
       "      <td>0</td>\n",
       "    </tr>\n",
       "    <tr>\n",
       "      <th>842193</th>\n",
       "      <td>292</td>\n",
       "      <td>3</td>\n",
       "      <td>2013-01-16</td>\n",
       "      <td>4979</td>\n",
       "      <td>671</td>\n",
       "      <td>0</td>\n",
       "      <td>0</td>\n",
       "      <td>0</td>\n",
       "      <td>a</td>\n",
       "      <td>a</td>\n",
       "      <td>1100.0</td>\n",
       "      <td>0</td>\n",
       "    </tr>\n",
       "    <tr>\n",
       "      <th>842194</th>\n",
       "      <td>292</td>\n",
       "      <td>2</td>\n",
       "      <td>2013-01-15</td>\n",
       "      <td>4723</td>\n",
       "      <td>711</td>\n",
       "      <td>0</td>\n",
       "      <td>0</td>\n",
       "      <td>0</td>\n",
       "      <td>a</td>\n",
       "      <td>a</td>\n",
       "      <td>1100.0</td>\n",
       "      <td>0</td>\n",
       "    </tr>\n",
       "    <tr>\n",
       "      <th>842195</th>\n",
       "      <td>292</td>\n",
       "      <td>1</td>\n",
       "      <td>2013-01-14</td>\n",
       "      <td>5560</td>\n",
       "      <td>784</td>\n",
       "      <td>0</td>\n",
       "      <td>0</td>\n",
       "      <td>0</td>\n",
       "      <td>a</td>\n",
       "      <td>a</td>\n",
       "      <td>1100.0</td>\n",
       "      <td>0</td>\n",
       "    </tr>\n",
       "    <tr>\n",
       "      <th>842196</th>\n",
       "      <td>292</td>\n",
       "      <td>6</td>\n",
       "      <td>2013-01-12</td>\n",
       "      <td>3035</td>\n",
       "      <td>373</td>\n",
       "      <td>0</td>\n",
       "      <td>0</td>\n",
       "      <td>0</td>\n",
       "      <td>a</td>\n",
       "      <td>a</td>\n",
       "      <td>1100.0</td>\n",
       "      <td>0</td>\n",
       "    </tr>\n",
       "    <tr>\n",
       "      <th>842197</th>\n",
       "      <td>292</td>\n",
       "      <td>5</td>\n",
       "      <td>2013-01-11</td>\n",
       "      <td>6316</td>\n",
       "      <td>756</td>\n",
       "      <td>1</td>\n",
       "      <td>0</td>\n",
       "      <td>0</td>\n",
       "      <td>a</td>\n",
       "      <td>a</td>\n",
       "      <td>1100.0</td>\n",
       "      <td>0</td>\n",
       "    </tr>\n",
       "    <tr>\n",
       "      <th>842198</th>\n",
       "      <td>292</td>\n",
       "      <td>4</td>\n",
       "      <td>2013-01-10</td>\n",
       "      <td>6173</td>\n",
       "      <td>747</td>\n",
       "      <td>1</td>\n",
       "      <td>0</td>\n",
       "      <td>0</td>\n",
       "      <td>a</td>\n",
       "      <td>a</td>\n",
       "      <td>1100.0</td>\n",
       "      <td>0</td>\n",
       "    </tr>\n",
       "    <tr>\n",
       "      <th>842199</th>\n",
       "      <td>292</td>\n",
       "      <td>3</td>\n",
       "      <td>2013-01-09</td>\n",
       "      <td>6436</td>\n",
       "      <td>765</td>\n",
       "      <td>1</td>\n",
       "      <td>0</td>\n",
       "      <td>0</td>\n",
       "      <td>a</td>\n",
       "      <td>a</td>\n",
       "      <td>1100.0</td>\n",
       "      <td>0</td>\n",
       "    </tr>\n",
       "    <tr>\n",
       "      <th>842200</th>\n",
       "      <td>292</td>\n",
       "      <td>2</td>\n",
       "      <td>2013-01-08</td>\n",
       "      <td>6859</td>\n",
       "      <td>792</td>\n",
       "      <td>1</td>\n",
       "      <td>0</td>\n",
       "      <td>0</td>\n",
       "      <td>a</td>\n",
       "      <td>a</td>\n",
       "      <td>1100.0</td>\n",
       "      <td>0</td>\n",
       "    </tr>\n",
       "    <tr>\n",
       "      <th>842201</th>\n",
       "      <td>292</td>\n",
       "      <td>1</td>\n",
       "      <td>2013-01-07</td>\n",
       "      <td>9291</td>\n",
       "      <td>1002</td>\n",
       "      <td>1</td>\n",
       "      <td>0</td>\n",
       "      <td>0</td>\n",
       "      <td>a</td>\n",
       "      <td>a</td>\n",
       "      <td>1100.0</td>\n",
       "      <td>0</td>\n",
       "    </tr>\n",
       "    <tr>\n",
       "      <th>842202</th>\n",
       "      <td>292</td>\n",
       "      <td>6</td>\n",
       "      <td>2013-01-05</td>\n",
       "      <td>2748</td>\n",
       "      <td>340</td>\n",
       "      <td>0</td>\n",
       "      <td>0</td>\n",
       "      <td>0</td>\n",
       "      <td>a</td>\n",
       "      <td>a</td>\n",
       "      <td>1100.0</td>\n",
       "      <td>0</td>\n",
       "    </tr>\n",
       "    <tr>\n",
       "      <th>842203</th>\n",
       "      <td>292</td>\n",
       "      <td>5</td>\n",
       "      <td>2013-01-04</td>\n",
       "      <td>4202</td>\n",
       "      <td>560</td>\n",
       "      <td>0</td>\n",
       "      <td>0</td>\n",
       "      <td>1</td>\n",
       "      <td>a</td>\n",
       "      <td>a</td>\n",
       "      <td>1100.0</td>\n",
       "      <td>0</td>\n",
       "    </tr>\n",
       "    <tr>\n",
       "      <th>842204</th>\n",
       "      <td>292</td>\n",
       "      <td>4</td>\n",
       "      <td>2013-01-03</td>\n",
       "      <td>4580</td>\n",
       "      <td>662</td>\n",
       "      <td>0</td>\n",
       "      <td>0</td>\n",
       "      <td>1</td>\n",
       "      <td>a</td>\n",
       "      <td>a</td>\n",
       "      <td>1100.0</td>\n",
       "      <td>0</td>\n",
       "    </tr>\n",
       "    <tr>\n",
       "      <th>842205</th>\n",
       "      <td>292</td>\n",
       "      <td>3</td>\n",
       "      <td>2013-01-02</td>\n",
       "      <td>5076</td>\n",
       "      <td>672</td>\n",
       "      <td>0</td>\n",
       "      <td>0</td>\n",
       "      <td>1</td>\n",
       "      <td>a</td>\n",
       "      <td>a</td>\n",
       "      <td>1100.0</td>\n",
       "      <td>0</td>\n",
       "    </tr>\n",
       "  </tbody>\n",
       "</table>\n",
       "<p>842206 rows × 12 columns</p>\n",
       "</div>"
      ],
      "text/plain": [
       "        Store  DayOfWeek        Date  Sales  Customers  Promo StateHoliday  \\\n",
       "0           1          5  2015-07-31   5263        555      1            0   \n",
       "1           1          4  2015-07-30   5020        546      1            0   \n",
       "2           1          3  2015-07-29   4782        523      1            0   \n",
       "3           1          2  2015-07-28   5011        560      1            0   \n",
       "4           1          1  2015-07-27   6102        612      1            0   \n",
       "5           1          6  2015-07-25   4364        500      0            0   \n",
       "6           1          5  2015-07-24   3706        459      0            0   \n",
       "7           1          4  2015-07-23   3769        503      0            0   \n",
       "8           1          3  2015-07-22   3464        463      0            0   \n",
       "9           1          2  2015-07-21   3558        469      0            0   \n",
       "10          1          1  2015-07-20   4395        526      0            0   \n",
       "11          1          6  2015-07-18   4406        512      0            0   \n",
       "12          1          5  2015-07-17   4852        519      1            0   \n",
       "13          1          4  2015-07-16   4427        517      1            0   \n",
       "14          1          3  2015-07-15   4767        550      1            0   \n",
       "15          1          2  2015-07-14   5042        544      1            0   \n",
       "16          1          1  2015-07-13   5054        553      1            0   \n",
       "17          1          6  2015-07-11   3530        441      0            0   \n",
       "18          1          5  2015-07-10   3808        449      0            0   \n",
       "19          1          4  2015-07-09   3897        480      0            0   \n",
       "20          1          3  2015-07-08   3797        485      0            0   \n",
       "21          1          2  2015-07-07   3650        485      0            0   \n",
       "22          1          1  2015-07-06   4359        540      0            0   \n",
       "23          1          6  2015-07-04   4797        560      0            0   \n",
       "24          1          5  2015-07-03   4665        538      1            0   \n",
       "25          1          4  2015-07-02   5558        573      1            0   \n",
       "26          1          3  2015-07-01   5223        562      1            0   \n",
       "27          1          2  2015-06-30   5735        568      1            0   \n",
       "28          1          1  2015-06-29   5197        541      1            0   \n",
       "29          1          6  2015-06-27   4019        463      0            0   \n",
       "...       ...        ...         ...    ...        ...    ...          ...   \n",
       "842176    292          2  2013-02-05   7336        841      1            0   \n",
       "842177    292          1  2013-02-04   7584        858      1            0   \n",
       "842178    292          6  2013-02-02   3667        412      0            0   \n",
       "842179    292          5  2013-02-01   5668        670      0            0   \n",
       "842180    292          4  2013-01-31   5657        739      0            0   \n",
       "842181    292          3  2013-01-30   4351        653      0            0   \n",
       "842182    292          2  2013-01-29   4796        683      0            0   \n",
       "842183    292          1  2013-01-28   5510        769      0            0   \n",
       "842184    292          6  2013-01-26   3142        362      0            0   \n",
       "842185    292          5  2013-01-25   6229        737      1            0   \n",
       "842186    292          4  2013-01-24   5605        745      1            0   \n",
       "842187    292          3  2013-01-23   5969        710      1            0   \n",
       "842188    292          2  2013-01-22   6757        797      1            0   \n",
       "842189    292          1  2013-01-21   7863        916      1            0   \n",
       "842190    292          6  2013-01-19   2676        328      0            0   \n",
       "842191    292          5  2013-01-18   4943        644      0            0   \n",
       "842192    292          4  2013-01-17   4829        686      0            0   \n",
       "842193    292          3  2013-01-16   4979        671      0            0   \n",
       "842194    292          2  2013-01-15   4723        711      0            0   \n",
       "842195    292          1  2013-01-14   5560        784      0            0   \n",
       "842196    292          6  2013-01-12   3035        373      0            0   \n",
       "842197    292          5  2013-01-11   6316        756      1            0   \n",
       "842198    292          4  2013-01-10   6173        747      1            0   \n",
       "842199    292          3  2013-01-09   6436        765      1            0   \n",
       "842200    292          2  2013-01-08   6859        792      1            0   \n",
       "842201    292          1  2013-01-07   9291       1002      1            0   \n",
       "842202    292          6  2013-01-05   2748        340      0            0   \n",
       "842203    292          5  2013-01-04   4202        560      0            0   \n",
       "842204    292          4  2013-01-03   4580        662      0            0   \n",
       "842205    292          3  2013-01-02   5076        672      0            0   \n",
       "\n",
       "        SchoolHoliday StoreType Assortment  CompetitionDistance  Promo2  \n",
       "0                   1         c          a               1270.0       0  \n",
       "1                   1         c          a               1270.0       0  \n",
       "2                   1         c          a               1270.0       0  \n",
       "3                   1         c          a               1270.0       0  \n",
       "4                   1         c          a               1270.0       0  \n",
       "5                   0         c          a               1270.0       0  \n",
       "6                   0         c          a               1270.0       0  \n",
       "7                   0         c          a               1270.0       0  \n",
       "8                   0         c          a               1270.0       0  \n",
       "9                   0         c          a               1270.0       0  \n",
       "10                  0         c          a               1270.0       0  \n",
       "11                  0         c          a               1270.0       0  \n",
       "12                  0         c          a               1270.0       0  \n",
       "13                  0         c          a               1270.0       0  \n",
       "14                  0         c          a               1270.0       0  \n",
       "15                  0         c          a               1270.0       0  \n",
       "16                  0         c          a               1270.0       0  \n",
       "17                  0         c          a               1270.0       0  \n",
       "18                  0         c          a               1270.0       0  \n",
       "19                  0         c          a               1270.0       0  \n",
       "20                  0         c          a               1270.0       0  \n",
       "21                  0         c          a               1270.0       0  \n",
       "22                  0         c          a               1270.0       0  \n",
       "23                  0         c          a               1270.0       0  \n",
       "24                  0         c          a               1270.0       0  \n",
       "25                  0         c          a               1270.0       0  \n",
       "26                  0         c          a               1270.0       0  \n",
       "27                  0         c          a               1270.0       0  \n",
       "28                  0         c          a               1270.0       0  \n",
       "29                  0         c          a               1270.0       0  \n",
       "...               ...       ...        ...                  ...     ...  \n",
       "842176              1         a          a               1100.0       0  \n",
       "842177              1         a          a               1100.0       0  \n",
       "842178              0         a          a               1100.0       0  \n",
       "842179              0         a          a               1100.0       0  \n",
       "842180              0         a          a               1100.0       0  \n",
       "842181              0         a          a               1100.0       0  \n",
       "842182              0         a          a               1100.0       0  \n",
       "842183              0         a          a               1100.0       0  \n",
       "842184              0         a          a               1100.0       0  \n",
       "842185              0         a          a               1100.0       0  \n",
       "842186              0         a          a               1100.0       0  \n",
       "842187              0         a          a               1100.0       0  \n",
       "842188              0         a          a               1100.0       0  \n",
       "842189              0         a          a               1100.0       0  \n",
       "842190              0         a          a               1100.0       0  \n",
       "842191              0         a          a               1100.0       0  \n",
       "842192              0         a          a               1100.0       0  \n",
       "842193              0         a          a               1100.0       0  \n",
       "842194              0         a          a               1100.0       0  \n",
       "842195              0         a          a               1100.0       0  \n",
       "842196              0         a          a               1100.0       0  \n",
       "842197              0         a          a               1100.0       0  \n",
       "842198              0         a          a               1100.0       0  \n",
       "842199              0         a          a               1100.0       0  \n",
       "842200              0         a          a               1100.0       0  \n",
       "842201              0         a          a               1100.0       0  \n",
       "842202              0         a          a               1100.0       0  \n",
       "842203              1         a          a               1100.0       0  \n",
       "842204              1         a          a               1100.0       0  \n",
       "842205              1         a          a               1100.0       0  \n",
       "\n",
       "[842206 rows x 12 columns]"
      ]
     },
     "execution_count": 130,
     "metadata": {},
     "output_type": "execute_result"
    }
   ],
   "source": [
    "# YOUR CODE\n",
    "# inner join `stores_encode` and `train_dataset_encode` on `Store`, and save the resulting df as `df_combined`.\n",
    "\n",
    "df_combined = train_dataset.merge(stores, 'inner')\n",
    "df_combined"
   ]
  },
  {
   "cell_type": "markdown",
   "metadata": {},
   "source": [
    "Check that the combined df has no missing values and that it has the proper one-hot encoded values"
   ]
  },
  {
   "cell_type": "code",
   "execution_count": 131,
   "metadata": {},
   "outputs": [
    {
     "data": {
      "text/plain": [
       "Store                  0\n",
       "DayOfWeek              0\n",
       "Date                   0\n",
       "Sales                  0\n",
       "Customers              0\n",
       "Promo                  0\n",
       "StateHoliday           0\n",
       "SchoolHoliday          0\n",
       "StoreType              0\n",
       "Assortment             0\n",
       "CompetitionDistance    0\n",
       "Promo2                 0\n",
       "dtype: int64"
      ]
     },
     "execution_count": 131,
     "metadata": {},
     "output_type": "execute_result"
    }
   ],
   "source": [
    "df_combined.isnull().sum()"
   ]
  },
  {
   "cell_type": "markdown",
   "metadata": {},
   "source": [
    "### New Feature Engineering on df_combined\n",
    "- Extract month from `Date`"
   ]
  },
  {
   "cell_type": "code",
   "execution_count": 132,
   "metadata": {},
   "outputs": [],
   "source": [
    "df_combined['Month'] = pd.DatetimeIndex(df_combined['Date']).month.values"
   ]
  },
  {
   "cell_type": "markdown",
   "metadata": {
    "_cell_guid": "8339e1d5-cf5c-420f-bb40-3a92b3a5186e",
    "_uuid": "9c19f2bc0fca159a3cd0ba5f9683caf7ecfd5d4c"
   },
   "source": [
    "## EDA"
   ]
  },
  {
   "cell_type": "markdown",
   "metadata": {},
   "source": [
    "To determine what type of models and predictors might work best for predicting sales, we studied which factors are causing the most variance in sales."
   ]
  },
  {
   "cell_type": "markdown",
   "metadata": {},
   "source": [
    "#### Variations based on Store Attributes"
   ]
  },
  {
   "cell_type": "markdown",
   "metadata": {},
   "source": [
    "One of the biggest sources of variance in sales is based on the store number. In the graph below we show the average sales for the first ten stores in the data set. We can see that the average sales are quite different for each store and that there is no linear pattern. We do see stores with similar sales levels, suggesting the stores may fall into groups.\n",
    "\n",
    "The scatterplot below that shows the average sales for all the stores. We can again see that some stores have similar levels of sales, so it's likely we can group stores together when making sales predictions, which is something for which tree models are well suited.\n",
    "\n",
    "Each store number is effectively a category with its own particular sales level. When predicting future sales, we would like a single model that can make predictions for each store rather than having to fit a separate model for each store."
   ]
  },
  {
   "cell_type": "code",
   "execution_count": 133,
   "metadata": {},
   "outputs": [
    {
     "name": "stderr",
     "output_type": "stream",
     "text": [
      "/Users/claire/Documents/dev/e14a/lab_2/my_venv/lib/python3.7/site-packages/scipy/stats/stats.py:1713: FutureWarning: Using a non-tuple sequence for multidimensional indexing is deprecated; use `arr[tuple(seq)]` instead of `arr[seq]`. In the future this will be interpreted as an array index, `arr[np.array(seq)]`, which will result either in an error or a different result.\n",
      "  return np.add.reduce(sorted[indexer] * weights, axis=axis) / sumval\n"
     ]
    },
    {
     "data": {
      "image/png": "[encoded data removed]",
      "text/plain": [
       "<Figure size 432x288 with 1 Axes>"
      ]
     },
     "metadata": {},
     "output_type": "display_data"
    },
    {
     "name": "stderr",
     "output_type": "stream",
     "text": [
      "'c' argument looks like a single numeric RGB or RGBA sequence, which should be avoided as value-mapping will have precedence in case its length matches with 'x' & 'y'.  Please use a 2-D array with a single row if you really want to specify the same RGB or RGBA value for all points.\n"
     ]
    },
    {
     "data": {
      "image/png": "[encoded data removed]",
      "text/plain": [
       "<Figure size 432x288 with 1 Axes>"
      ]
     },
     "metadata": {},
     "output_type": "display_data"
    }
   ],
   "source": [
    "df_subset = df_combined[(df_combined['Store'] < 11)]\n",
    "sns.set(font_scale=2)\n",
    "\n",
    "# Plot store sales for stores 1 to 10\n",
    "fig, ax = plt.subplots(1,1)\n",
    "\n",
    "p3 = sns.barplot(x='Store', y='Sales', data=df_subset, ax=ax)\n",
    "ax.set(xlabel='Store Number')\n",
    "ax.set_ylabel('Average Sales')\n",
    "ax.set_title('Sales for ten stores')\n",
    "\n",
    "plt.show()\n",
    "\n",
    "# Create a plot of average sales per store id\n",
    "avg_sales_per_store = df_combined[['Sales', 'Store']].groupby('Store').mean()\n",
    "avg_sales_per_store.reset_index().plot(kind='scatter', x='Store', y='Sales')\n",
    "plt.xlim(0,960)\n",
    "plt.title(\"Average Sales by Store Number\")\n",
    "plt.show()"
   ]
  },
  {
   "cell_type": "markdown",
   "metadata": {},
   "source": [
    "The data set has categorical variables for different store types and the assortment of products for sale at each store. We see that these categories are a source of variance in sales."
   ]
  },
  {
   "cell_type": "markdown",
   "metadata": {},
   "source": [
    "#### Impact of Number of Customers"
   ]
  },
  {
   "cell_type": "markdown",
   "metadata": {},
   "source": [
    "After exploration of the train and test sets, we ascertained that only the training data contains the number of Customers feature. The visualization below shows the positive correlation between the number of customers and sales (and also outliers). This feature is highly correlated with sales, but it’s not available until after the sales occur (i.e. it’s not in the test set). But exploring this feature helps make a case for including a proxy for the Customers feature in our final predictors (see the Feature Engineering section).\n",
    "\n",
    "We also see that there’s added information with the behavior of customers per StoreType. We see that StoreType d (shown in green) that projects to the upper left quadrant. This means that for the same level of Sales, StoreType d requires fewer customers than StoreType b (blue). There’s less clarity of StoreType impact in the middle of the cone shaped scatter, but we can certainly see the impact of Customers and Sales conditional on the StoreType mostly in the outer regions of the visualization. Thus StoreType is a relevant feature, but as a function of Customers, as we can see that around 2000 to 3000 Customers there’s a break in the cluster pattern of the middle section of the cone. Therefore, further substantiation for us to include a proxy of the Customers feature in the model."
   ]
  },
  {
   "cell_type": "code",
   "execution_count": 134,
   "metadata": {},
   "outputs": [
    {
     "data": {
      "text/plain": [
       "<seaborn.axisgrid.FacetGrid at 0x11753f358>"
      ]
     },
     "execution_count": 134,
     "metadata": {},
     "output_type": "execute_result"
    },
    {
     "data": {
      "image/png": "[encoded data removed]",
      "text/plain": [
       "<Figure size 878.428x504 with 1 Axes>"
      ]
     },
     "metadata": {},
     "output_type": "display_data"
    }
   ],
   "source": [
    "sns.lmplot(x='Customers', y='Sales', data=df_combined, hue='StoreType',fit_reg=False,\n",
    "           scatter_kws={'alpha':0.1}, height=7, aspect=1.5)"
   ]
  },
  {
   "cell_type": "code",
   "execution_count": 135,
   "metadata": {
    "_cell_guid": "0190bc75-61b4-489f-bffd-71d40eed41b6",
    "_uuid": "56594318e444d4391d5cfb516eb8c955f6d11ea5"
   },
   "outputs": [
    {
     "data": {
      "text/plain": [
       "<seaborn.axisgrid.FacetGrid at 0x1029f3128>"
      ]
     },
     "execution_count": 135,
     "metadata": {},
     "output_type": "execute_result"
    },
    {
     "data": {
      "image/png": "[encoded data removed]",
      "text/plain": [
       "<Figure size 864x576 with 4 Axes>"
      ]
     },
     "metadata": {},
     "output_type": "display_data"
    }
   ],
   "source": [
    "g = sns.FacetGrid(df_combined, col=\"StoreType\", col_wrap=2, height=4, aspect=1.5)\n",
    "g.map(plt.scatter, \"Customers\", \"Sales\")"
   ]
  },
  {
   "cell_type": "markdown",
   "metadata": {},
   "source": [
    "### Process categorical columns\n",
    "\n",
    "Before we can start modeling, we need to convert categorical variables into one-hot encoded binary variables.\n",
    "In `df_combined`, one-hot encode the following:\n",
    "\n",
    "- `Store`\n",
    "- `StoreType`\n",
    "- `Assortment` \n",
    "- `StateHoliday` "
   ]
  },
  {
   "cell_type": "markdown",
   "metadata": {},
   "source": [
    "Notice that we have two zero values for `StateHoliday`: one integer and one string. Let us fix this and have one string zero value for all `StateHoliday` representations."
   ]
  },
  {
   "cell_type": "code",
   "execution_count": 136,
   "metadata": {},
   "outputs": [
    {
     "data": {
      "text/plain": [
       "array(['0', 0, 'a', 'b', 'c'], dtype=object)"
      ]
     },
     "execution_count": 136,
     "metadata": {},
     "output_type": "execute_result"
    }
   ],
   "source": [
    "# Display unique values of 'StateHoliday'\n",
    "df_combined.StateHoliday.unique()"
   ]
  },
  {
   "cell_type": "markdown",
   "metadata": {},
   "source": [
    "###### Question 6"
   ]
  },
  {
   "cell_type": "code",
   "execution_count": 137,
   "metadata": {},
   "outputs": [
    {
     "data": {
      "text/plain": [
       "array(['a', 'c', 'b'], dtype=object)"
      ]
     },
     "execution_count": 137,
     "metadata": {},
     "output_type": "execute_result"
    }
   ],
   "source": [
    "# YOUR CODE\n",
    "# Your result shoud look like this: \n",
    "### array(['0', 'a', 'b', 'c'], dtype=object)\n",
    "\n",
    "df_combined.Store.unique()\n",
    "df_combined.StoreType.unique()\n",
    "df_combined.Assortment.unique()\n",
    "\n"
   ]
  },
  {
   "cell_type": "markdown",
   "metadata": {},
   "source": [
    "###### Question 7"
   ]
  },
  {
   "cell_type": "code",
   "execution_count": 138,
   "metadata": {},
   "outputs": [],
   "source": [
    "# YOUR CODE\n",
    "# Transforme the variables into one-hot-encoding using the get_dummies() method\n",
    "df_combined = pd.get_dummies(df_combined, ['Store', 'StoreType', 'Assortment', 'State Holiday'])\n"
   ]
  },
  {
   "cell_type": "markdown",
   "metadata": {
    "_cell_guid": "f8974e36-d25b-457c-baaa-88de595b76d8",
    "_uuid": "5b54e070f7cde4cf7b6f4e55da6b44289506aec7"
   },
   "source": [
    "## Rossmann Data Modeling"
   ]
  },
  {
   "cell_type": "markdown",
   "metadata": {},
   "source": [
    "Due to the regressive predictive nature of The Rossmann Project, we decided to approach our model methodology with a Linear Regression base model with feature selection. Note: you can also consider Ridge regression to evaluate the effects of regularization on the predictive performance. "
   ]
  },
  {
   "cell_type": "markdown",
   "metadata": {},
   "source": [
    "*Note: The time dimension has a tremendous impact in this project. The Kaggle competition consisted in predicted the next 6 weeks (or 42 days), our splitting lead to have a testing set very large of over 900 days, explaining the fast degradation of the explained variance. These issues are the same the world of finance and economics are facing. For example the usage of an AR(n) to predict future outcomes quickly converge to a stationary states. In a real world, one would adjust the model based on the observed error. This is the spirit of tools such as the 'Kalman Filter' that are usually implemented in these domains.* \n",
    "\n",
    "*One other potential approach would consist in implementing more complicated model that naturally combine time series and decision tree, such as ART (Autoregressive Trees). The proposed method are outside of the scope of this course and thus we will focus on some other tehniques here.*"
   ]
  },
  {
   "cell_type": "markdown",
   "metadata": {},
   "source": [
    "### Linear Regression"
   ]
  },
  {
   "cell_type": "markdown",
   "metadata": {},
   "source": [
    "Linear regression is an intuitive first baseline model."
   ]
  },
  {
   "cell_type": "markdown",
   "metadata": {},
   "source": [
    "#### Load libraries"
   ]
  },
  {
   "cell_type": "code",
   "execution_count": 139,
   "metadata": {},
   "outputs": [],
   "source": [
    "from sklearn import linear_model\n",
    "from sklearn.metrics import r2_score\n",
    "from sklearn.model_selection import train_test_split"
   ]
  },
  {
   "cell_type": "code",
   "execution_count": 140,
   "metadata": {},
   "outputs": [
    {
     "data": {
      "text/plain": [
       "Index(['Store', 'DayOfWeek', 'Sales', 'Customers', 'Promo', 'SchoolHoliday',\n",
       "       'CompetitionDistance', 'Promo2', 'Month', 'Store_2013-01-01',\n",
       "       ...\n",
       "       'StoreType_a', 'StoreType_b', 'StoreType_c', 'Assortment_a',\n",
       "       'Assortment_b', 'Assortment_c', 'Assortment_d', 'State Holiday_a',\n",
       "       'State Holiday_b', 'State Holiday_c'],\n",
       "      dtype='object', length=963)"
      ]
     },
     "execution_count": 140,
     "metadata": {},
     "output_type": "execute_result"
    }
   ],
   "source": [
    "df_combined.columns"
   ]
  },
  {
   "cell_type": "markdown",
   "metadata": {},
   "source": [
    "Keep features for modeling:"
   ]
  },
  {
   "cell_type": "code",
   "execution_count": 141,
   "metadata": {},
   "outputs": [],
   "source": [
    "store_feats = [c for c in df_combined if \"Store_\" in c] # columns related to one-hot encoded `Store`\n",
    "store_type_feats = [c for c in df_combined if \"StoreType_\" in c] # columns related to one-hot encoded `StoreType_`\n",
    "assortment_feats = [c for c in df_combined if \"Assortment_\" in c] # columns related to one-hot encoded `Assortment_`\n",
    "state_holiday_feats = [c for c in df_combined if \"StateHoliday_\" in c] # columns related to one-hot encoded `StateHoliday_`\n",
    "extra_feats = ['CompetitionDistance', 'Promo2', 'Promo',\n",
    "            'DayOfWeek', 'Month', \n",
    "            'SchoolHoliday']\n",
    "features = store_feats + store_type_feats + assortment_feats + state_holiday_feats + extra_feats\n",
    "\n",
    "target = 'Sales'"
   ]
  },
  {
   "cell_type": "markdown",
   "metadata": {},
   "source": [
    "#### Linear Regression\n",
    "\n",
    "This takes a bit of time because we have a lot of predictor columns."
   ]
  },
  {
   "cell_type": "code",
   "execution_count": 142,
   "metadata": {},
   "outputs": [
    {
     "name": "stdout",
     "output_type": "stream",
     "text": [
      "Train R2 score: 0.29\n",
      "Test R2 score: 0.29\n"
     ]
    }
   ],
   "source": [
    "# Split the data into train/test\n",
    "X_train, X_test, y_train, y_test = train_test_split(df_combined[features], df_combined[target], test_size=0.33)\n",
    "\n",
    "# Create linear regression object\n",
    "regr = linear_model.LinearRegression()\n",
    "\n",
    "# Train the model using the training sets\n",
    "regr.fit(X_train, y_train)\n",
    "\n",
    "# Make predictions using the testing set\n",
    "y_pred = regr.predict(X_test)\n",
    "\n",
    "# Explained variance score: 1 is perfect prediction\n",
    "print('Train R2 score: %.2f' % r2_score(y_train, regr.predict(X_train)))\n",
    "print('Test R2 score: %.2f' % r2_score(y_test, y_pred))"
   ]
  },
  {
   "cell_type": "markdown",
   "metadata": {},
   "source": [
    "###### Question 8\n",
    "Plot the residual plot"
   ]
  },
  {
   "cell_type": "code",
   "execution_count": 143,
   "metadata": {},
   "outputs": [
    {
     "data": {
      "image/png": "[encoded data removed]",
      "text/plain": [
       "<Figure size 432x288 with 1 Axes>"
      ]
     },
     "metadata": {},
     "output_type": "display_data"
    }
   ],
   "source": [
    "# YOUR CODE\n",
    "# Plot residual plot: residuals vs. fitted values\n",
    "# Residuals = y_true - y_pred\n",
    "# Fitted values = y_pred\n",
    "# Don't forget to label your plot\n",
    "res_plot = sns.residplot(x=y_pred, y=(y_test-y_pred), data=regr, label=\"Residuals\")\n",
    "res_plot.set(xlabel='Fitted Values', ylabel='Residuals')\n",
    "plt.show()\n",
    "\n"
   ]
  },
  {
   "cell_type": "markdown",
   "metadata": {},
   "source": [
    "###### Question 9\n",
    "Can you reason about the residual plot?"
   ]
  },
  {
   "cell_type": "raw",
   "metadata": {},
   "source": [
    "###### Your Answer: Probably suitable for a linear model since it's shape is random"
   ]
  },
  {
   "cell_type": "markdown",
   "metadata": {},
   "source": [
    "### Tree Based Models"
   ]
  },
  {
   "cell_type": "markdown",
   "metadata": {},
   "source": [
    "It has been well established that bagging and other resampling techniques can be used to reduce the variance in model predictions. As several replicates of the original data set are created using random selection with replacement, at every step, each derivative data set is then used to construct a new model and the models are gathered together into an ensemble. To make a prediction, all of the models in the ensemble are polled and their results are averaged in the case of regression, which is our specific approach.\n",
    "\n",
    "As well, it has been well established that a powerful modeling algorithm that makes good use of bagging is Random Forests, which works by training numerous decision trees each based on a different resampling of the original training data. The random forest algorithm improves on bagging by training each tree on a random sample of the available features, to prevent each tree from choosing the same predictors.\n",
    "\n",
    "In Random Forests the bias of the full model is equivalent to the bias of a single decision tree, which itself has high variance. By creating many of these trees, a forest, and then averaging them, the variance of the final model can be greatly reduced over that of a single tree. In practice the only limitation we encountered on the size of the forest is computing time, as an infinite number of trees could be trained without ever increasing bias and with a continual - if asymptotically declining - decrease in the variance.\n",
    "\n",
    "It is for the aforementioned that we considered Random Forests as a Baseline Ensemble and its constituent, the Decision Tree Regressor as a baseline model as well."
   ]
  },
  {
   "cell_type": "markdown",
   "metadata": {},
   "source": [
    "### Decision Trees"
   ]
  },
  {
   "cell_type": "markdown",
   "metadata": {},
   "source": [
    "Decision trees were implemented as to evaluate the base consituent of the Random Forest ensemble. As per our research on previous models, Random Forest is a very good performance candidate for a baseline ensemble model for Rossmann.\n",
    "\n",
    "Decision Trees are also evaluated as a non-parametric baseline model, which enriches the comparative analysis of the Linear Regression Models.\n",
    "\n",
    "For fitting the decision tree model, we do not need to create dummy variables for categorical columns, since trees are able to make use of the factorized category values we created during data cleaning."
   ]
  },
  {
   "cell_type": "markdown",
   "metadata": {},
   "source": [
    "### Random Forest"
   ]
  },
  {
   "cell_type": "markdown",
   "metadata": {},
   "source": [
    "Next we considered Random Forest models. "
   ]
  },
  {
   "cell_type": "code",
   "execution_count": 144,
   "metadata": {},
   "outputs": [],
   "source": [
    "# Load libraries\n",
    "from sklearn.ensemble import RandomForestRegressor"
   ]
  },
  {
   "cell_type": "code",
   "execution_count": 145,
   "metadata": {},
   "outputs": [
    {
     "name": "stdout",
     "output_type": "stream",
     "text": [
      "R2 score on train:  0.8584050616187873\n",
      "R2 score on test:  0.5635739516847356\n"
     ]
    }
   ],
   "source": [
    "rf = RandomForestRegressor(random_state=10)\n",
    "rf.fit(X_train, y_train)\n",
    "\n",
    "print('R2 score on train: ', rf.score(X_train, y_train))\n",
    "print('R2 score on test: ', rf.score(X_test, y_test))"
   ]
  },
  {
   "cell_type": "markdown",
   "metadata": {},
   "source": [
    "###### Question 10"
   ]
  },
  {
   "cell_type": "markdown",
   "metadata": {},
   "source": [
    "Plot the residual plot"
   ]
  },
  {
   "cell_type": "code",
   "execution_count": 146,
   "metadata": {},
   "outputs": [
    {
     "data": {
      "image/png": "[encoded data removed]",
      "text/plain": [
       "<Figure size 432x288 with 1 Axes>"
      ]
     },
     "metadata": {},
     "output_type": "display_data"
    }
   ],
   "source": [
    "# YOUR CODE\n",
    "# Plot residual plot: residuals vs. fitted values\n",
    "# Residuals = y_true - y_pred\n",
    "# Fitted values = y_pred\n",
    "# Don't forget to label your plot\n",
    "y_pred2 = rf.predict(X_test)\n",
    "res_plot = sns.residplot(x=y_pred2, y=(y_test-y_pred2), data=rf, label=\"Residuals\")\n",
    "res_plot.set(xlabel='Fitted Values', ylabel='Residuals')\n",
    "plt.show()"
   ]
  },
  {
   "cell_type": "markdown",
   "metadata": {},
   "source": [
    "###### Question 11\n",
    "#### Which model is better? Give 1 possible approach to improve your best model. ** Your answer: **"
   ]
  },
  {
   "cell_type": "code",
   "execution_count": 148,
   "metadata": {
    "scrolled": true
   },
   "outputs": [],
   "source": [
    "###### Your Answer: The Random Forest since it is more symmetrically distributed"
   ]
  },
  {
   "cell_type": "markdown",
   "metadata": {},
   "source": [
    "## Export models "
   ]
  },
  {
   "cell_type": "markdown",
   "metadata": {},
   "source": [
    "In our final step, we will choose the best model and explore some important prediction elements. Our app accepts features and gives predictions based on users inputs. Let us see what kind of data input is neccessarry (this is important for you to setup the proper input on the Flask side). "
   ]
  },
  {
   "cell_type": "markdown",
   "metadata": {},
   "source": [
    "For example, take one simple observation (we are using first data row):"
   ]
  },
  {
   "cell_type": "code",
   "execution_count": 149,
   "metadata": {},
   "outputs": [
    {
     "data": {
      "text/plain": [
       "Store_2013-01-01          0.0\n",
       "Store_2013-01-02          0.0\n",
       "Store_2013-01-03          0.0\n",
       "Store_2013-01-04          0.0\n",
       "Store_2013-01-05          0.0\n",
       "Store_2013-01-06          0.0\n",
       "Store_2013-01-07          0.0\n",
       "Store_2013-01-08          0.0\n",
       "Store_2013-01-09          0.0\n",
       "Store_2013-01-10          0.0\n",
       "Store_2013-01-11          0.0\n",
       "Store_2013-01-12          0.0\n",
       "Store_2013-01-13          0.0\n",
       "Store_2013-01-14          0.0\n",
       "Store_2013-01-15          0.0\n",
       "Store_2013-01-16          0.0\n",
       "Store_2013-01-17          0.0\n",
       "Store_2013-01-18          0.0\n",
       "Store_2013-01-19          0.0\n",
       "Store_2013-01-20          0.0\n",
       "Store_2013-01-21          0.0\n",
       "Store_2013-01-22          0.0\n",
       "Store_2013-01-23          0.0\n",
       "Store_2013-01-24          0.0\n",
       "Store_2013-01-25          0.0\n",
       "Store_2013-01-26          0.0\n",
       "Store_2013-01-27          0.0\n",
       "Store_2013-01-28          0.0\n",
       "Store_2013-01-29          0.0\n",
       "Store_2013-01-30          0.0\n",
       "                        ...  \n",
       "Store_2015-07-19          0.0\n",
       "Store_2015-07-20          0.0\n",
       "Store_2015-07-21          0.0\n",
       "Store_2015-07-22          0.0\n",
       "Store_2015-07-23          0.0\n",
       "Store_2015-07-24          0.0\n",
       "Store_2015-07-25          0.0\n",
       "Store_2015-07-26          0.0\n",
       "Store_2015-07-27          0.0\n",
       "Store_2015-07-28          0.0\n",
       "Store_2015-07-29          0.0\n",
       "Store_2015-07-30          0.0\n",
       "Store_2015-07-31          0.0\n",
       "StoreType_0               0.0\n",
       "StoreType_0               1.0\n",
       "StoreType_0               0.0\n",
       "StoreType_0               1.0\n",
       "StoreType_a               0.0\n",
       "StoreType_b               0.0\n",
       "StoreType_c               0.0\n",
       "Assortment_a              0.0\n",
       "Assortment_b              0.0\n",
       "Assortment_c              1.0\n",
       "Assortment_d              0.0\n",
       "CompetitionDistance    8190.0\n",
       "Promo2                    1.0\n",
       "Promo                     0.0\n",
       "DayOfWeek                 5.0\n",
       "Month                     6.0\n",
       "SchoolHoliday             0.0\n",
       "Name: 540489, Length: 959, dtype: float64"
      ]
     },
     "execution_count": 149,
     "metadata": {},
     "output_type": "execute_result"
    }
   ],
   "source": [
    "# Print first row\n",
    "X_test.iloc[0]"
   ]
  },
  {
   "cell_type": "markdown",
   "metadata": {},
   "source": [
    "Predict based on your first row:"
   ]
  },
  {
   "cell_type": "code",
   "execution_count": 150,
   "metadata": {},
   "outputs": [
    {
     "ename": "AttributeError",
     "evalue": "'Series' object has no attribute 'reshape'",
     "output_type": "error",
     "traceback": [
      "\u001b[0;31m---------------------------------------------------------------------------\u001b[0m",
      "\u001b[0;31mAttributeError\u001b[0m                            Traceback (most recent call last)",
      "\u001b[0;32m<ipython-input-150-25cd7e4fda85>\u001b[0m in \u001b[0;36m<module>\u001b[0;34m()\u001b[0m\n\u001b[1;32m      1\u001b[0m \u001b[0;31m# Test for your app\u001b[0m\u001b[0;34m\u001b[0m\u001b[0;34m\u001b[0m\u001b[0m\n\u001b[0;32m----> 2\u001b[0;31m \u001b[0mrf\u001b[0m\u001b[0;34m.\u001b[0m\u001b[0mpredict\u001b[0m\u001b[0;34m(\u001b[0m\u001b[0mnp\u001b[0m\u001b[0;34m.\u001b[0m\u001b[0marray\u001b[0m\u001b[0;34m(\u001b[0m\u001b[0mX_test\u001b[0m\u001b[0;34m.\u001b[0m\u001b[0miloc\u001b[0m\u001b[0;34m[\u001b[0m\u001b[0;36m0\u001b[0m\u001b[0;34m]\u001b[0m\u001b[0;34m.\u001b[0m\u001b[0mreshape\u001b[0m\u001b[0;34m(\u001b[0m\u001b[0;36m1\u001b[0m\u001b[0;34m,\u001b[0m \u001b[0;34m-\u001b[0m\u001b[0;36m1\u001b[0m\u001b[0;34m)\u001b[0m\u001b[0;34m)\u001b[0m\u001b[0;34m)\u001b[0m\u001b[0;34m\u001b[0m\u001b[0m\n\u001b[0m",
      "\u001b[0;32m~/Documents/dev/e14a/lab_2/my_venv/lib/python3.7/site-packages/pandas/core/generic.py\u001b[0m in \u001b[0;36m__getattr__\u001b[0;34m(self, name)\u001b[0m\n\u001b[1;32m   4374\u001b[0m             \u001b[0;32mif\u001b[0m \u001b[0mself\u001b[0m\u001b[0;34m.\u001b[0m\u001b[0m_info_axis\u001b[0m\u001b[0;34m.\u001b[0m\u001b[0m_can_hold_identifiers_and_holds_name\u001b[0m\u001b[0;34m(\u001b[0m\u001b[0mname\u001b[0m\u001b[0;34m)\u001b[0m\u001b[0;34m:\u001b[0m\u001b[0;34m\u001b[0m\u001b[0m\n\u001b[1;32m   4375\u001b[0m                 \u001b[0;32mreturn\u001b[0m \u001b[0mself\u001b[0m\u001b[0;34m[\u001b[0m\u001b[0mname\u001b[0m\u001b[0;34m]\u001b[0m\u001b[0;34m\u001b[0m\u001b[0m\n\u001b[0;32m-> 4376\u001b[0;31m             \u001b[0;32mreturn\u001b[0m \u001b[0mobject\u001b[0m\u001b[0;34m.\u001b[0m\u001b[0m__getattribute__\u001b[0m\u001b[0;34m(\u001b[0m\u001b[0mself\u001b[0m\u001b[0;34m,\u001b[0m \u001b[0mname\u001b[0m\u001b[0;34m)\u001b[0m\u001b[0;34m\u001b[0m\u001b[0m\n\u001b[0m\u001b[1;32m   4377\u001b[0m \u001b[0;34m\u001b[0m\u001b[0m\n\u001b[1;32m   4378\u001b[0m     \u001b[0;32mdef\u001b[0m \u001b[0m__setattr__\u001b[0m\u001b[0;34m(\u001b[0m\u001b[0mself\u001b[0m\u001b[0;34m,\u001b[0m \u001b[0mname\u001b[0m\u001b[0;34m,\u001b[0m \u001b[0mvalue\u001b[0m\u001b[0;34m)\u001b[0m\u001b[0;34m:\u001b[0m\u001b[0;34m\u001b[0m\u001b[0m\n",
      "\u001b[0;31mAttributeError\u001b[0m: 'Series' object has no attribute 'reshape'"
     ]
    }
   ],
   "source": [
    "# Test for your app\n",
    "rf.predict(np.array(X_test.iloc[0].reshape(1, -1)))"
   ]
  },
  {
   "cell_type": "markdown",
   "metadata": {},
   "source": [
    "Therefore, your input needs to be **numpy array** with the same column order as df_combined. Now, we can export pur model and get ready for the second part of the homework. "
   ]
  },
  {
   "cell_type": "code",
   "execution_count": 152,
   "metadata": {},
   "outputs": [
    {
     "data": {
      "text/plain": [
       "['rm.pkl']"
      ]
     },
     "execution_count": 152,
     "metadata": {},
     "output_type": "execute_result"
    }
   ],
   "source": [
    "from sklearn.externals import joblib\n",
    "joblib.dump(rf, 'rm.pkl')\n"
   ]
  },
  {
   "cell_type": "code",
   "execution_count": null,
   "metadata": {
    "collapsed": true
   },
   "outputs": [],
   "source": []
  }
 ],
 "metadata": {
  "anaconda-cloud": {},
  "kernelspec": {
   "display_name": "Python 3",
   "language": "python",
   "name": "python3"
  },
  "language_info": {
   "codemirror_mode": {
    "name": "ipython",
    "version": 3
   },
   "file_extension": ".py",
   "mimetype": "text/x-python",
   "name": "python",
   "nbconvert_exporter": "python",
   "pygments_lexer": "ipython3",
   "version": "3.7.0"
  }
 },
 "nbformat": 4,
 "nbformat_minor": 1
}
